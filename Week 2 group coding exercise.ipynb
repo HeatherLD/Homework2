{
 "cells": [
  {
   "cell_type": "code",
   "execution_count": null,
   "id": "3bea6ce9",
   "metadata": {},
   "outputs": [],
   "source": [
    "# \"checking constraints - have a chunk of code set aside for it\"\n",
    "# First example is un-nested, second and third examples are nested."
   ]
  },
  {
   "cell_type": "code",
   "execution_count": 8,
   "id": "2f10c43b",
   "metadata": {},
   "outputs": [
    {
     "name": "stdout",
     "output_type": "stream",
     "text": [
      "Enter a number:107\n",
      "out of range\n"
     ]
    }
   ],
   "source": [
    "n = int(input(\"Enter a number:\"))\n",
    "\n",
    "#RN (random number)\n",
    "def IsItWeird(RN):\n",
    "    if RN>100 or RN<1:\n",
    "        print(\"out of range\")\n",
    "    elif RN%2==1:\n",
    "        print(\"Weird\")\n",
    "    elif RN%2==0 and RN in range(2,6):\n",
    "        print(\"Not Weird\")\n",
    "    elif RN%2==0 and RN in range(6,21):\n",
    "        print(\"Weird\")\n",
    "    elif RN in range(21,101):\n",
    "        print(\"Not Weird\")\n",
    "    \n",
    "IsItWeird(n)"
   ]
  },
  {
   "cell_type": "code",
   "execution_count": 13,
   "id": "738e0425",
   "metadata": {},
   "outputs": [
    {
     "name": "stdout",
     "output_type": "stream",
     "text": [
      "Enter a number:45\n",
      "Weird\n"
     ]
    }
   ],
   "source": [
    "n = int(input(\"Enter a number:\"))\n",
    "\n",
    "#RN (random number)\n",
    "def IsItWeird(RN):\n",
    "    if RN%2==1:\n",
    "        print(\"Weird\")\n",
    "    elif RN%2==0 and RN in range(2,6):\n",
    "        print(\"Not Weird\")\n",
    "    elif RN%2==0 and RN in range(6,21):\n",
    "        print(\"Weird\")\n",
    "    elif RN in range(21,101):\n",
    "        print(\"Not Weird\")\n",
    "    \n",
    "if n>=1 and n<=100:\n",
    "    IsItWeird(n)\n",
    "else:\n",
    "    print(\"out of range\")"
   ]
  },
  {
   "cell_type": "code",
   "execution_count": 11,
   "id": "f74efe4b",
   "metadata": {},
   "outputs": [
    {
     "name": "stdout",
     "output_type": "stream",
     "text": [
      "Enter a number:108\n",
      "out of range\n"
     ]
    }
   ],
   "source": [
    "n = int(input(\"Enter a number:\"))\n",
    "\n",
    "#RN (random number)\n",
    "def IsItWeird(RN):\n",
    "    if RN>=1 and RN<=100:\n",
    "        if RN%2==1:\n",
    "            print(\"Weird\")\n",
    "        elif RN%2==0 and RN in range(2,6):\n",
    "            print(\"Not Weird\")\n",
    "        elif RN%2==0 and RN in range(6,21):\n",
    "            print(\"Weird\")\n",
    "        elif RN in range(21,101):\n",
    "            print(\"Not Weird\")\n",
    "    else:\n",
    "        print(\"out of range\")\n",
    "    \n",
    "IsItWeird(n)"
   ]
  },
  {
   "cell_type": "code",
   "execution_count": null,
   "id": "7e731213",
   "metadata": {},
   "outputs": [],
   "source": []
  }
 ],
 "metadata": {
  "kernelspec": {
   "display_name": "Python 3 (ipykernel)",
   "language": "python",
   "name": "python3"
  },
  "language_info": {
   "codemirror_mode": {
    "name": "ipython",
    "version": 3
   },
   "file_extension": ".py",
   "mimetype": "text/x-python",
   "name": "python",
   "nbconvert_exporter": "python",
   "pygments_lexer": "ipython3",
   "version": "3.9.7"
  }
 },
 "nbformat": 4,
 "nbformat_minor": 5
}
